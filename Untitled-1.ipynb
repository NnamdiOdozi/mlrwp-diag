{
 "cells": [
  {
   "cell_type": "code",
   "execution_count": 2,
   "id": "4757594a",
   "metadata": {},
   "outputs": [],
   "source": [
    "import socket"
   ]
  },
  {
   "cell_type": "code",
   "execution_count": 3,
   "id": "3d04e712",
   "metadata": {},
   "outputs": [],
   "source": [
    "vps_public_ip = \"138.199.200.113\"  # Replace with your actual VPS IP address\n"
   ]
  },
  {
   "cell_type": "code",
   "execution_count": 4,
   "id": "61416d0c",
   "metadata": {},
   "outputs": [
    {
     "data": {
      "text/plain": [
       "'NnamdiDELL_XPS'"
      ]
     },
     "execution_count": 4,
     "metadata": {},
     "output_type": "execute_result"
    }
   ],
   "source": [
    "socket.gethostname() == \"localhost\"\n",
    "socket.gethostname()"
   ]
  },
  {
   "cell_type": "code",
   "execution_count": 8,
   "id": "292b4b32",
   "metadata": {},
   "outputs": [
    {
     "data": {
      "text/plain": [
       "True"
      ]
     },
     "execution_count": 8,
     "metadata": {},
     "output_type": "execute_result"
    }
   ],
   "source": [
    "is_local = socket.gethostname() == \"localhost\" or socket.gethostname().startswith(\"Nnamdi\") or socket.gethostname().startswith(\"LAPTOP-\")\n",
    "is_local"
   ]
  },
  {
   "cell_type": "code",
   "execution_count": 6,
   "id": "e622a556",
   "metadata": {},
   "outputs": [
    {
     "data": {
      "text/plain": [
       "'http://localhost:5000'"
      ]
     },
     "execution_count": 6,
     "metadata": {},
     "output_type": "execute_result"
    }
   ],
   "source": [
    "mlflow_url = f\"http://localhost:5000\" if is_local else f\"http://{vps_public_ip}:5000\"\n",
    "mlflow_url"
   ]
  },
  {
   "cell_type": "code",
   "execution_count": null,
   "id": "960143f2",
   "metadata": {},
   "outputs": [],
   "source": []
  }
 ],
 "metadata": {
  "kernelspec": {
   "display_name": "diagenv",
   "language": "python",
   "name": "python3"
  },
  "language_info": {
   "codemirror_mode": {
    "name": "ipython",
    "version": 3
   },
   "file_extension": ".py",
   "mimetype": "text/x-python",
   "name": "python",
   "nbconvert_exporter": "python",
   "pygments_lexer": "ipython3",
   "version": "3.12.4"
  }
 },
 "nbformat": 4,
 "nbformat_minor": 5
}
